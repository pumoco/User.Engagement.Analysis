{
 "cells": [
  {
   "cell_type": "markdown",
   "id": "3b4cb161",
   "metadata": {},
   "source": [
    "# User Engagement Analysis"
   ]
  },
  {
   "cell_type": "code",
   "execution_count": 1,
   "id": "b98f8b3d",
   "metadata": {},
   "outputs": [
    {
     "name": "stdout",
     "output_type": "stream",
     "text": [
      "      Client ID  Sessions Avg. Session Duration Bounce Rate\n",
      "0  5.778476e+08       367              00:01:35      87.19%\n",
      "1  1.583822e+09       260              00:01:04      29.62%\n",
      "2  1.030699e+09       237              00:00:02      99.16%\n",
      "3  1.025030e+09       226              00:02:22      25.66%\n",
      "4  1.469968e+09       216              00:01:23      46.76%\n"
     ]
    }
   ],
   "source": [
    "import pandas as pd\n",
    "import plotly.express as px\n",
    "import plotly.io as pio\n",
    "import plotly.graph_objects as go\n",
    "pio.templates.default = \"plotly_white\"\n",
    "pio.renderers.default = \"iframe\"\n",
    "\n",
    "data = pd.read_csv(\"bounce-rate.csv\")\n",
    "print(data.head())"
   ]
  },
  {
   "cell_type": "code",
   "execution_count": 15,
   "id": "370f30ac",
   "metadata": {},
   "outputs": [
    {
     "data": {
      "text/plain": [
       "Renderers configuration\n",
       "-----------------------\n",
       "    Default renderer: 'iframe'\n",
       "    Available renderers:\n",
       "        ['plotly_mimetype', 'jupyterlab', 'nteract', 'vscode',\n",
       "         'notebook', 'notebook_connected', 'kaggle', 'azure', 'colab',\n",
       "         'cocalc', 'databricks', 'json', 'png', 'jpeg', 'jpg', 'svg',\n",
       "         'pdf', 'browser', 'firefox', 'chrome', 'chromium', 'iframe',\n",
       "         'iframe_connected', 'sphinx_gallery', 'sphinx_gallery_png']"
      ]
     },
     "execution_count": 15,
     "metadata": {},
     "output_type": "execute_result"
    }
   ],
   "source": [
    "pio.renderers"
   ]
  },
  {
   "cell_type": "markdown",
   "id": "98a2d7ed",
   "metadata": {},
   "source": [
    "### look at the null values:"
   ]
  },
  {
   "cell_type": "code",
   "execution_count": 3,
   "id": "0bbae2cf",
   "metadata": {},
   "outputs": [
    {
     "name": "stdout",
     "output_type": "stream",
     "text": [
      "Client ID                0\n",
      "Sessions                 0\n",
      "Avg. Session Duration    0\n",
      "Bounce Rate              0\n",
      "dtype: int64\n"
     ]
    }
   ],
   "source": [
    "print(data.isnull().sum())"
   ]
  },
  {
   "cell_type": "markdown",
   "id": "ee692369",
   "metadata": {},
   "source": [
    "### column insights:"
   ]
  },
  {
   "cell_type": "code",
   "execution_count": 4,
   "id": "c9e73325",
   "metadata": {},
   "outputs": [
    {
     "name": "stdout",
     "output_type": "stream",
     "text": [
      "<class 'pandas.core.frame.DataFrame'>\n",
      "RangeIndex: 999 entries, 0 to 998\n",
      "Data columns (total 4 columns):\n",
      " #   Column                 Non-Null Count  Dtype  \n",
      "---  ------                 --------------  -----  \n",
      " 0   Client ID              999 non-null    float64\n",
      " 1   Sessions               999 non-null    int64  \n",
      " 2   Avg. Session Duration  999 non-null    object \n",
      " 3   Bounce Rate            999 non-null    object \n",
      "dtypes: float64(1), int64(1), object(2)\n",
      "memory usage: 31.3+ KB\n",
      "None\n"
     ]
    }
   ],
   "source": [
    "print(data.info())"
   ]
  },
  {
   "cell_type": "markdown",
   "id": "3f0611bd",
   "metadata": {},
   "source": [
    "### prepare our data:"
   ]
  },
  {
   "cell_type": "code",
   "execution_count": 5,
   "id": "3a2e108d",
   "metadata": {},
   "outputs": [
    {
     "name": "stdout",
     "output_type": "stream",
     "text": [
      "        Client ID  Sessions  Avg. Session Duration  Bounce Rate\n",
      "0    5.778476e+08       367               1.583333        87.19\n",
      "1    1.583822e+09       260               1.066667        29.62\n",
      "2    1.030699e+09       237               0.033333        99.16\n",
      "3    1.025030e+09       226               2.366667        25.66\n",
      "4    1.469968e+09       216               1.383333        46.76\n",
      "..            ...       ...                    ...          ...\n",
      "994  1.049263e+09        17               7.733333        41.18\n",
      "995  1.145806e+09        17               5.616667        47.06\n",
      "996  1.153811e+09        17               0.200000        94.12\n",
      "997  1.182133e+09        17               1.216667        88.24\n",
      "998  1.184187e+09        17               2.566667        64.71\n",
      "\n",
      "[999 rows x 4 columns]\n"
     ]
    }
   ],
   "source": [
    "data['Avg. Session Duration'] = data['Avg. Session Duration'].str[1:]\n",
    "data['Avg. Session Duration'] = pd.to_timedelta(data['Avg. Session Duration'])\n",
    "data['Avg. Session Duration'] = data['Avg. Session Duration'] / pd.Timedelta(minutes=1)\n",
    "data['Bounce Rate'] = data['Bounce Rate'].str.rstrip('%').astype('float')\n",
    "print(data)"
   ]
  },
  {
   "cell_type": "markdown",
   "id": "1ad36e00",
   "metadata": {},
   "source": [
    "### look at the descriptive statistics of the data:"
   ]
  },
  {
   "cell_type": "code",
   "execution_count": 6,
   "id": "d1cc735f",
   "metadata": {},
   "outputs": [
    {
     "name": "stdout",
     "output_type": "stream",
     "text": [
      "          Client ID    Sessions  Avg. Session Duration  Bounce Rate\n",
      "count  9.990000e+02  999.000000             999.000000   999.000000\n",
      "mean   1.036401e+09   32.259259               3.636520    65.307978\n",
      "std    6.151503e+08   24.658588               4.040562    22.997270\n",
      "min    1.849182e+05   17.000000               0.000000     4.880000\n",
      "25%    4.801824e+08   21.000000               0.891667    47.370000\n",
      "50%    1.029507e+09   25.000000               2.466667    66.670000\n",
      "75%    1.587982e+09   35.000000               4.816667    85.190000\n",
      "max    2.063338e+09  367.000000              30.666667   100.000000\n"
     ]
    }
   ],
   "source": [
    "print(data.describe())"
   ]
  },
  {
   "cell_type": "markdown",
   "id": "03a24042",
   "metadata": {},
   "source": [
    "### correlation matrix:"
   ]
  },
  {
   "cell_type": "code",
   "execution_count": 7,
   "id": "024af73e",
   "metadata": {},
   "outputs": [
    {
     "data": {
      "text/html": [
       "<iframe\n",
       "    scrolling=\"no\"\n",
       "    width=\"100%\"\n",
       "    height=\"545px\"\n",
       "    src=\"iframe_figures/figure_7.html\"\n",
       "    frameborder=\"0\"\n",
       "    allowfullscreen\n",
       "></iframe>\n"
      ]
     },
     "metadata": {},
     "output_type": "display_data"
    }
   ],
   "source": [
    "# Exclude 'Client Id' column from the dataset\n",
    "data_without_id = data.drop('Client ID', axis=1)\n",
    "\n",
    "# Calculate the correlation matrix\n",
    "correlation_matrix = data_without_id.corr()\n",
    "\n",
    "# Visualize the correlation matrix\n",
    "correlation_fig = px.imshow(correlation_matrix, \n",
    "                            labels=dict(x='Features', \n",
    "                                        y='Features', \n",
    "                                        color='Correlation'))\n",
    "correlation_fig.update_layout(title='Correlation Matrix')\n",
    "correlation_fig.show()"
   ]
  },
  {
   "cell_type": "markdown",
   "id": "e6133255",
   "metadata": {},
   "source": [
    "### Analyzing Bounce Rates:"
   ]
  },
  {
   "cell_type": "code",
   "execution_count": 8,
   "id": "9aaf29dd",
   "metadata": {},
   "outputs": [
    {
     "data": {
      "text/html": [
       "<iframe\n",
       "    scrolling=\"no\"\n",
       "    width=\"100%\"\n",
       "    height=\"545px\"\n",
       "    src=\"iframe_figures/figure_8.html\"\n",
       "    frameborder=\"0\"\n",
       "    allowfullscreen\n",
       "></iframe>\n"
      ]
     },
     "metadata": {},
     "output_type": "display_data"
    }
   ],
   "source": [
    "# Define the thresholds for high, medium, and low bounce rates\n",
    "high_bounce_rate_threshold = 70\n",
    "low_bounce_rate_threshold = 30\n",
    "\n",
    "# Segment the clients based on bounce rates\n",
    "data['Bounce Rate Segment'] = pd.cut(data['Bounce Rate'], \n",
    "                                     bins=[0, low_bounce_rate_threshold, \n",
    "                                           high_bounce_rate_threshold, 100],\n",
    "                                   labels=['Low', 'Medium', 'High'], right=False)\n",
    "\n",
    "# Count the number of clients in each segment\n",
    "segment_counts = data['Bounce Rate Segment'].value_counts().sort_index()\n",
    "\n",
    "# Visualize the segments\n",
    "segment_fig = px.bar(segment_counts, labels={'index': 'Bounce Rate Segment', \n",
    "                                             'value': 'Number of Clients'},\n",
    "                     title='Segmentation of Clients based on Bounce Rates')\n",
    "segment_fig.show()"
   ]
  },
  {
   "cell_type": "markdown",
   "id": "8e747061",
   "metadata": {},
   "source": [
    "### average session duration of the users in each bounce rate segment:"
   ]
  },
  {
   "cell_type": "code",
   "execution_count": 9,
   "id": "6a6363cd",
   "metadata": {},
   "outputs": [
    {
     "data": {
      "text/html": [
       "<iframe\n",
       "    scrolling=\"no\"\n",
       "    width=\"100%\"\n",
       "    height=\"545px\"\n",
       "    src=\"iframe_figures/figure_9.html\"\n",
       "    frameborder=\"0\"\n",
       "    allowfullscreen\n",
       "></iframe>\n"
      ]
     },
     "metadata": {},
     "output_type": "display_data"
    }
   ],
   "source": [
    "# Calculate the average session duration for each segment\n",
    "segment_avg_duration = data.groupby('Bounce Rate Segment')['Avg. Session Duration'].mean()\n",
    "\n",
    "# Create a bar chart to compare user engagement\n",
    "engagement_fig = go.Figure(data=go.Bar(\n",
    "    x=segment_avg_duration.index,\n",
    "    y=segment_avg_duration,\n",
    "    text=segment_avg_duration.round(2),\n",
    "    textposition='auto',\n",
    "    marker=dict(color=['#2ECC40', '#FFDC00', '#FF4136'])\n",
    "))\n",
    "\n",
    "engagement_fig.update_layout(\n",
    "    title='Comparison of User Engagement by Bounce Rate Segment',\n",
    "    xaxis=dict(title='Bounce Rate Segment'),\n",
    "    yaxis=dict(title='Average Session Duration (minutes)'),\n",
    ")\n",
    "\n",
    "engagement_fig.show()"
   ]
  },
  {
   "cell_type": "markdown",
   "id": "994a7ff1",
   "metadata": {},
   "source": [
    "###  top 10 loyal users according to the number of sessions and average session duration:"
   ]
  },
  {
   "cell_type": "code",
   "execution_count": 10,
   "id": "28adb5dd",
   "metadata": {},
   "outputs": [
    {
     "data": {
      "text/html": [
       "<div>\n",
       "<style scoped>\n",
       "    .dataframe tbody tr th:only-of-type {\n",
       "        vertical-align: middle;\n",
       "    }\n",
       "\n",
       "    .dataframe tbody tr th {\n",
       "        vertical-align: top;\n",
       "    }\n",
       "\n",
       "    .dataframe thead th {\n",
       "        text-align: right;\n",
       "    }\n",
       "</style>\n",
       "<table border=\"1\" class=\"dataframe\">\n",
       "  <thead>\n",
       "    <tr style=\"text-align: right;\">\n",
       "      <th></th>\n",
       "      <th>Client ID</th>\n",
       "      <th>Sessions</th>\n",
       "      <th>Avg. Session Duration</th>\n",
       "      <th>Bounce Rate</th>\n",
       "      <th>Bounce Rate Segment</th>\n",
       "      <th>Total Session Duration</th>\n",
       "    </tr>\n",
       "  </thead>\n",
       "  <tbody>\n",
       "    <tr>\n",
       "      <th>20</th>\n",
       "      <td>1.884620e+09</td>\n",
       "      <td>93</td>\n",
       "      <td>30.666667</td>\n",
       "      <td>16.13</td>\n",
       "      <td>Low</td>\n",
       "      <td>2852.000000</td>\n",
       "    </tr>\n",
       "    <tr>\n",
       "      <th>54</th>\n",
       "      <td>1.041722e+09</td>\n",
       "      <td>67</td>\n",
       "      <td>20.500000</td>\n",
       "      <td>22.39</td>\n",
       "      <td>Low</td>\n",
       "      <td>1373.500000</td>\n",
       "    </tr>\n",
       "    <tr>\n",
       "      <th>262</th>\n",
       "      <td>8.756557e+08</td>\n",
       "      <td>34</td>\n",
       "      <td>29.966667</td>\n",
       "      <td>26.47</td>\n",
       "      <td>Low</td>\n",
       "      <td>1018.866667</td>\n",
       "    </tr>\n",
       "    <tr>\n",
       "      <th>10</th>\n",
       "      <td>1.461865e+09</td>\n",
       "      <td>117</td>\n",
       "      <td>8.450000</td>\n",
       "      <td>48.72</td>\n",
       "      <td>Medium</td>\n",
       "      <td>988.650000</td>\n",
       "    </tr>\n",
       "    <tr>\n",
       "      <th>173</th>\n",
       "      <td>1.849182e+05</td>\n",
       "      <td>40</td>\n",
       "      <td>24.416667</td>\n",
       "      <td>17.50</td>\n",
       "      <td>Low</td>\n",
       "      <td>976.666667</td>\n",
       "    </tr>\n",
       "    <tr>\n",
       "      <th>15</th>\n",
       "      <td>1.049234e+09</td>\n",
       "      <td>99</td>\n",
       "      <td>9.716667</td>\n",
       "      <td>34.34</td>\n",
       "      <td>Medium</td>\n",
       "      <td>961.950000</td>\n",
       "    </tr>\n",
       "    <tr>\n",
       "      <th>310</th>\n",
       "      <td>2.026953e+09</td>\n",
       "      <td>31</td>\n",
       "      <td>22.116667</td>\n",
       "      <td>35.48</td>\n",
       "      <td>Medium</td>\n",
       "      <td>685.616667</td>\n",
       "    </tr>\n",
       "    <tr>\n",
       "      <th>24</th>\n",
       "      <td>1.903206e+09</td>\n",
       "      <td>90</td>\n",
       "      <td>7.016667</td>\n",
       "      <td>36.67</td>\n",
       "      <td>Medium</td>\n",
       "      <td>631.500000</td>\n",
       "    </tr>\n",
       "    <tr>\n",
       "      <th>211</th>\n",
       "      <td>2.054569e+09</td>\n",
       "      <td>37</td>\n",
       "      <td>16.250000</td>\n",
       "      <td>35.14</td>\n",
       "      <td>Medium</td>\n",
       "      <td>601.250000</td>\n",
       "    </tr>\n",
       "    <tr>\n",
       "      <th>402</th>\n",
       "      <td>6.220935e+08</td>\n",
       "      <td>28</td>\n",
       "      <td>21.300000</td>\n",
       "      <td>39.29</td>\n",
       "      <td>Medium</td>\n",
       "      <td>596.400000</td>\n",
       "    </tr>\n",
       "  </tbody>\n",
       "</table>\n",
       "</div>"
      ],
      "text/plain": [
       "        Client ID  Sessions  Avg. Session Duration  Bounce Rate  \\\n",
       "20   1.884620e+09        93              30.666667        16.13   \n",
       "54   1.041722e+09        67              20.500000        22.39   \n",
       "262  8.756557e+08        34              29.966667        26.47   \n",
       "10   1.461865e+09       117               8.450000        48.72   \n",
       "173  1.849182e+05        40              24.416667        17.50   \n",
       "15   1.049234e+09        99               9.716667        34.34   \n",
       "310  2.026953e+09        31              22.116667        35.48   \n",
       "24   1.903206e+09        90               7.016667        36.67   \n",
       "211  2.054569e+09        37              16.250000        35.14   \n",
       "402  6.220935e+08        28              21.300000        39.29   \n",
       "\n",
       "    Bounce Rate Segment  Total Session Duration  \n",
       "20                  Low             2852.000000  \n",
       "54                  Low             1373.500000  \n",
       "262                 Low             1018.866667  \n",
       "10               Medium              988.650000  \n",
       "173                 Low              976.666667  \n",
       "15               Medium              961.950000  \n",
       "310              Medium              685.616667  \n",
       "24               Medium              631.500000  \n",
       "211              Medium              601.250000  \n",
       "402              Medium              596.400000  "
      ]
     },
     "execution_count": 10,
     "metadata": {},
     "output_type": "execute_result"
    }
   ],
   "source": [
    "# Calculate the total session duration for each client\n",
    "data['Total Session Duration'] = data['Sessions'] * data['Avg. Session Duration']\n",
    "\n",
    "# Sort the DataFrame by the total session duration in descending order\n",
    "df_sorted = data.sort_values('Total Session Duration', ascending=False)\n",
    "\n",
    "# the top 10 most loyal users\n",
    "df_sorted.head(10)"
   ]
  },
  {
   "cell_type": "markdown",
   "id": "2f383cd5",
   "metadata": {},
   "source": [
    "### relationship between the average session duration and the bounce rates:"
   ]
  },
  {
   "cell_type": "code",
   "execution_count": 11,
   "id": "b023393a",
   "metadata": {},
   "outputs": [
    {
     "data": {
      "text/html": [
       "<iframe\n",
       "    scrolling=\"no\"\n",
       "    width=\"100%\"\n",
       "    height=\"545px\"\n",
       "    src=\"iframe_figures/figure_11.html\"\n",
       "    frameborder=\"0\"\n",
       "    allowfullscreen\n",
       "></iframe>\n"
      ]
     },
     "metadata": {},
     "output_type": "display_data"
    }
   ],
   "source": [
    "# Create a scatter plot to analyze the relationship between bounce rate and avg session duration\n",
    "scatter_fig = px.scatter(data, x='Bounce Rate', y='Avg. Session Duration',\n",
    "                         title='Relationship between Bounce Rate and Avg. Session Duration', trendline='ols')\n",
    "\n",
    "scatter_fig.update_layout(\n",
    "    xaxis=dict(title='Bounce Rate'),\n",
    "    yaxis=dict(title='Avg. Session Duration')\n",
    ")\n",
    "\n",
    "scatter_fig.show()"
   ]
  },
  {
   "cell_type": "markdown",
   "id": "66eead8d",
   "metadata": {},
   "source": [
    "### Analyzing User Retention:"
   ]
  },
  {
   "cell_type": "code",
   "execution_count": 12,
   "id": "48a407dd",
   "metadata": {},
   "outputs": [
    {
     "name": "stdout",
     "output_type": "stream",
     "text": [
      "        Client ID  Sessions  Avg. Session Duration  Bounce Rate  \\\n",
      "0    5.778476e+08       367               1.583333        87.19   \n",
      "1    1.583822e+09       260               1.066667        29.62   \n",
      "2    1.030699e+09       237               0.033333        99.16   \n",
      "3    1.025030e+09       226               2.366667        25.66   \n",
      "4    1.469968e+09       216               1.383333        46.76   \n",
      "..            ...       ...                    ...          ...   \n",
      "994  1.049263e+09        17               7.733333        41.18   \n",
      "995  1.145806e+09        17               5.616667        47.06   \n",
      "996  1.153811e+09        17               0.200000        94.12   \n",
      "997  1.182133e+09        17               1.216667        88.24   \n",
      "998  1.184187e+09        17               2.566667        64.71   \n",
      "\n",
      "    Bounce Rate Segment  Total Session Duration Retention Segment  \n",
      "0                  High              581.083333    Frequent Users  \n",
      "1                   Low              277.333333    Frequent Users  \n",
      "2                  High                7.900000    Frequent Users  \n",
      "3                   Low              534.866667    Frequent Users  \n",
      "4                Medium              298.800000    Frequent Users  \n",
      "..                  ...                     ...               ...  \n",
      "994              Medium              131.466667  Occasional Users  \n",
      "995              Medium               95.483333  Occasional Users  \n",
      "996                High                3.400000  Occasional Users  \n",
      "997                High               20.683333  Occasional Users  \n",
      "998              Medium               43.633333  Occasional Users  \n",
      "\n",
      "[999 rows x 7 columns]\n"
     ]
    }
   ],
   "source": [
    "# Define the retention segments based on number of sessions\n",
    "def get_retention_segment(row):\n",
    "    if row['Sessions'] >= 32: # 32 is mean of sessions\n",
    "        return 'Frequent Users'\n",
    "    else:\n",
    "        return 'Occasional Users'\n",
    "\n",
    "# Create a new column for retention segments\n",
    "data['Retention Segment'] = data.apply(get_retention_segment, axis=1)\n",
    "\n",
    "# Print the updated DataFrame\n",
    "print(data)"
   ]
  },
  {
   "cell_type": "markdown",
   "id": "a7c2516e",
   "metadata": {},
   "source": [
    "### average bounce rate by retention segment:"
   ]
  },
  {
   "cell_type": "code",
   "execution_count": 13,
   "id": "726177da",
   "metadata": {},
   "outputs": [
    {
     "data": {
      "text/html": [
       "<iframe\n",
       "    scrolling=\"no\"\n",
       "    width=\"100%\"\n",
       "    height=\"545px\"\n",
       "    src=\"iframe_figures/figure_13.html\"\n",
       "    frameborder=\"0\"\n",
       "    allowfullscreen\n",
       "></iframe>\n"
      ]
     },
     "metadata": {},
     "output_type": "display_data"
    }
   ],
   "source": [
    "# Calculate the average bounce rate for each retention segment\n",
    "segment_bounce_rates = data.groupby('Retention Segment')['Bounce Rate'].mean().reset_index()\n",
    "\n",
    "# Create a bar chart to visualize the average bounce rates by retention segment\n",
    "bar_fig = px.bar(segment_bounce_rates, x='Retention Segment', y='Bounce Rate',\n",
    "                 title='Average Bounce Rate by Retention Segment',\n",
    "                 labels={'Retention Segment': 'Retention Segment', 'Bounce Rate': 'Average Bounce Rate'})\n",
    "\n",
    "bar_fig.show()"
   ]
  },
  {
   "cell_type": "markdown",
   "id": "386abe04",
   "metadata": {},
   "source": [
    "### percentage of retained users:"
   ]
  },
  {
   "cell_type": "code",
   "execution_count": 14,
   "id": "36d53628",
   "metadata": {},
   "outputs": [
    {
     "data": {
      "text/html": [
       "<iframe\n",
       "    scrolling=\"no\"\n",
       "    width=\"100%\"\n",
       "    height=\"545px\"\n",
       "    src=\"iframe_figures/figure_14.html\"\n",
       "    frameborder=\"0\"\n",
       "    allowfullscreen\n",
       "></iframe>\n"
      ]
     },
     "metadata": {},
     "output_type": "display_data"
    }
   ],
   "source": [
    "# Count the number of users in each retention segment\n",
    "segment_counts = data['Retention Segment'].value_counts()\n",
    "\n",
    "# Define the pastel colors\n",
    "colors = ['#FFB6C1', '#87CEFA']\n",
    "\n",
    "# Create a pie chart using Plotly\n",
    "fig = px.pie(segment_counts, \n",
    "             values=segment_counts.values, \n",
    "             names=segment_counts.index, \n",
    "             color=segment_counts.index, \n",
    "             color_discrete_sequence=colors,\n",
    "             title='User Retention Rate')\n",
    "\n",
    "# Update layout and show the chart\n",
    "fig.update_traces(textposition='inside', textinfo='percent+label')\n",
    "fig.update_layout(showlegend=False)\n",
    "fig.show()"
   ]
  },
  {
   "cell_type": "markdown",
   "id": "1bb564f9",
   "metadata": {},
   "source": [
    "### In the data of 1000 users, the platform retained 29.7% of users (297 users) who frequently visit the platform."
   ]
  },
  {
   "cell_type": "code",
   "execution_count": null,
   "id": "432983d6",
   "metadata": {},
   "outputs": [],
   "source": []
  }
 ],
 "metadata": {
  "kernelspec": {
   "display_name": "Python 3 (ipykernel)",
   "language": "python",
   "name": "python3"
  },
  "language_info": {
   "codemirror_mode": {
    "name": "ipython",
    "version": 3
   },
   "file_extension": ".py",
   "mimetype": "text/x-python",
   "name": "python",
   "nbconvert_exporter": "python",
   "pygments_lexer": "ipython3",
   "version": "3.9.16"
  }
 },
 "nbformat": 4,
 "nbformat_minor": 5
}
